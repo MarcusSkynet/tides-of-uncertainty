{
 "cells": [
  {
   "cell_type": "markdown",
   "id": "78d0fcf6-22da-4cf1-86fb-837eb17a0c8b",
   "metadata": {
    "tags": []
   },
   "source": [
    "# **Superdense Coding Protocol**"
   ]
  },
  {
   "cell_type": "markdown",
   "id": "5b0da0dd-39ae-4820-aa02-f1791ff556ba",
   "metadata": {},
   "source": [
    "### **Introduction**\n",
    "\n",
    "This code implements the superdense coding protocol using Qiskit, a quantum computing framework in Python. Superdense coding is a quantum communication protocol that exploits the principles of quantum entanglement and superposition to transmit two bits of classical information using only one quantum bit. In this implementation, I delve into the principle of superdense coding using Qiskit, showcasing how quantum bits (qubits) can be harnessed for high-capacity information transfer."
   ]
  },
  {
   "cell_type": "markdown",
   "id": "f207c977-9efb-4edd-81e2-3f7005c9965a",
   "metadata": {},
   "source": [
    "### **Overview of Superdense Coding**\n",
    "\n",
    "Superdense coding protocol involves two distant parties, the sender (**Alice**) and the receiver (**Bob**), aiming to transmit two bits of classical information using shared entangled qubits. The key steps of the superdense coding protocol are elucidated below:\n",
    "\n",
    "1. **Quantum and Classical Register Initialization:**\n",
    "        Entangled qubits are assigned to Alice (**A**) and Bob (**B**), along with a pair of random qubits (**random**) representing the classical message.\n",
    "        Two classical registers are established for both Alice (**a1**, **a2**) and Bob (**b1**, **b2**) to store measurement outcomes.\n",
    "\n",
    "2. **Random Message Initialization:**\n",
    "        A random classical message is prepared with **random** qubits using Hadamard (**H**) gates and stored into Alice's register (**a1**, **a2**)\n",
    "        \n",
    "3. **Entanglement Generation:**\n",
    "        Hadamard (**H**) and controlled-X (**CX**) gates are employed to generate entanglement between Alice's (**A**) and Bob's (**B**)qubits.\n",
    "\n",
    "4. **Encoding Information:**\n",
    "        Quantum gates (**Z** and **X** gates) are conditionally applied based on the random classical message, allowing for efficient encoding onto the entangled qubit **A**.\n",
    "\n",
    "5. **Decoding Information:**\n",
    "        Additional controlled-X (**CX**)  and Hadamard (**H**) operations are implemented for decoding the transmitted classical information.\n",
    "        \n",
    "6. **Measurement:**\n",
    "        Final measurements of entangled qubits (**A** and **B**) are conducted, and outcomes are recorded in classical registers (**b1** and **b2**) for Bob.\n",
    "        \n",
    "7. **Simulation and Visualization:**\n",
    "        The quantum circuit is simulated using a quantum simulator, and the resulting measurement statistics are visualized through a histogram."
   ]
  },
  {
   "cell_type": "markdown",
   "id": "5a5ef981-bd6c-4e5d-abcb-e171f630bbfb",
   "metadata": {},
   "source": [
    "### **Mathematical Analysis**\n",
    "\n",
    "The superdense coding protocol involves quantum gates and measurements, which can be mathematically described using the principles of quantum mechanics. Let's break down the key mathematical aspects of the superdense coding process:\n",
    "\n",
    "1. **Entangled State Initialization:**\n",
    "\n",
    "The entangled state **∣Φ+⟩** is established using a pair of qubits, typically denoted as **A** and **B**, through the application of Hadamard (**H**) and controlled-X (**CX**) gates:\n",
    "\n",
    "$$\n",
    "|\\Phi^+\\rangle = \\frac{1}{\\sqrt{2}}(|0\\rangle \\otimes |0\\rangle + |1\\rangle \\otimes |1\\rangle)\n",
    "$$\n",
    "\n",
    "2. **Randomization of message:**\n",
    "\n",
    "Random classical bits **a1** and **a2** are generated through the measurement of qubits **R0** and **R1** initialized with Hadamard gates (**H**):\n",
    "\n",
    "$$\n",
    "|Psi_R\\rangle = H|R_0\\rangle \\cdot H|R_1\\rangle\n",
    "$$\n",
    "\n",
    "Measurements of qubits **R0** and **R1** are stored in classical bits **a1** and **a2** initializing classical register **a** with random message:\n",
    "\n",
    "$$\n",
    "a1 = \\langle R_0\\rangle\n",
    "$$\n",
    "$$\n",
    "a2 = \\langle R_1\\rangle\n",
    "$$\n",
    "\n",
    "3. **Message Encoding:**\n",
    "\n",
    "The classical bits **a1** and **a2** are used to apply Pauli-X (**X**) and Pauli-Z (**Z**) gates to the entangled state **∣Φ+⟩**, creating the encoded state **∣Ψ⟩**:\n",
    "\n",
    "\n",
    "\n",
    "$$\n",
    "|\\Psi\\rangle = (X^{a1} \\cdot Z^{a2}) \\cdot |\\Phi^+\\rangle\n",
    "$$\n",
    "\n",
    "3. **Decoding by Bob:**\n",
    "\n",
    "To decode the message, the recipient applies Controlled-X (**CX**) and Hadamard (**H**) gates:\n",
    "\n",
    "$$\n",
    "|\\Psi'\\rangle = C_X|\\Psi\\rangle \\cdot H|\\Psi\\rangle\n",
    "$$\n",
    "\n",
    "The decoding measurement results in classical bits **b1** and **b2**:\n",
    "\n",
    "$$\n",
    "b1 = \\langle\\Psi'|B\\rangle\n",
    "$$\n",
    "$$\n",
    "b2 = \\langle\\Psi'|A\\rangle\n",
    "$$\n",
    "\n",
    "\n",
    "6. **Simulation and Measurement Statistics:**\n",
    "\n",
    "The test circuit is simulated, and the measurement statistics are obtained. The probability distribution of outcomes is then visualized through histograms."
   ]
  },
  {
   "cell_type": "markdown",
   "id": "01194182-40a7-4102-93b1-60ffe60ca9e3",
   "metadata": {},
   "source": [
    "### **Prerequisites**\n",
    "\n",
    "To run the provided code, you need the following Python libraries:\n",
    "\n",
    "- Qiskit\n",
    "\n",
    "Ensure that you have these libraries installed before executing the code."
   ]
  },
  {
   "cell_type": "markdown",
   "id": "4c7097f1-c381-4d64-80fc-94eec5eaae64",
   "metadata": {},
   "source": [
    "### **Code Overview**\n",
    "1. **Import necessary libraries**\n",
    "\n",
    "These imports bring in the required functionalities for Qiskit and visualization."
   ]
  },
  {
   "cell_type": "code",
   "execution_count": 1,
   "id": "58c6ddf0-951c-4f33-8af2-30638d0de869",
   "metadata": {
    "tags": []
   },
   "outputs": [],
   "source": [
    "# Import necessary libraries from Qiskit and other modules\n",
    "\n",
    "from qiskit import *\n",
    "from qiskit.visualization import plot_histogram"
   ]
  },
  {
   "cell_type": "markdown",
   "id": "78ff5d90-3a25-495a-a86b-fa897e232d7f",
   "metadata": {},
   "source": [
    "2. **Initialization of Quantum and Classical Registers**\n",
    "\n",
    "The superdense coding protocol involves the use of quantum registers to store qubits and classical registers for measurement outcomes. The code initializes quantum registers for the entangled qubits (**ebit0** and **ebit1**) and a quantum register to randomize sent transfered message (**random**), along with classical registers (**a** and **b**) to store measurement results."
   ]
  },
  {
   "cell_type": "code",
   "execution_count": 2,
   "id": "9214a530-9f22-4126-b80f-77355f36a11e",
   "metadata": {},
   "outputs": [],
   "source": [
    "# Define quantum registers for entangled qubits (ebit0 and ebit1) and random qubits (random)\n",
    "ebit0 = QuantumRegister(1, 'A')\n",
    "ebit1 = QuantumRegister(1, 'B')\n",
    "random = QuantumRegister(2, 'R')\n",
    "\n",
    "# Define classical registers for Alice's measurements (a1 and a2) and Bob's measurements (b1 and b2)\n",
    "a1 = ClassicalRegister(1, 'a1')\n",
    "a2 = ClassicalRegister(1, 'a2')\n",
    "b1 = ClassicalRegister(1, 'b1')\n",
    "b2 = ClassicalRegister(1, 'b2')\n",
    "\n",
    "# Create a quantum circuit named 'circuit' using the defined registers\n",
    "circuit = QuantumCircuit(ebit0, ebit1, random, a1, a2, b1, b2)\n",
    "\n",
    "# Uncomment the line below to display the initial circuit diagram\n",
    "# display(circuit.draw(output='mpl', style=\"iqp\"))"
   ]
  },
  {
   "cell_type": "markdown",
   "id": "7fdbd0c2-7804-4d3a-b26b-719d32585bc7",
   "metadata": {},
   "source": [
    "3. **Initialize Random Message to be Sent**\n",
    "\n",
    "A random classical message is created with the **random** qubits using Hadamard gates and stored in register **a1** and **a2**"
   ]
  },
  {
   "cell_type": "code",
   "execution_count": 3,
   "id": "b0cdf654-7f22-465d-948b-3944c6d7b048",
   "metadata": {},
   "outputs": [
    {
     "data": {
      "text/plain": [
       "<qiskit.circuit.instructionset.InstructionSet at 0x2b1703d7790>"
      ]
     },
     "execution_count": 3,
     "metadata": {},
     "output_type": "execute_result"
    }
   ],
   "source": [
    "# Initialize random message to be sent\n",
    "circuit.h(random[0])\n",
    "circuit.h(random[1])\n",
    "circuit.measure(random[0], a1)\n",
    "circuit.measure(random[1], a2)\n",
    "\n",
    "# Uncomment the line below to display the circuit diagram\n",
    "# display(circuit.draw(output='mpl', style=\"iqp\"))"
   ]
  },
  {
   "cell_type": "markdown",
   "id": "86aff3ac-8cd6-4cd3-b4ce-2905e58ea416",
   "metadata": {},
   "source": [
    "3. **Entanglement Generation**\n",
    "\n",
    "Hadamard (**H**) gate and controlled-X (**CX**) gate operations are performed to create entanglement between **ebit0** and **ebit1**."
   ]
  },
  {
   "cell_type": "code",
   "execution_count": 4,
   "id": "d27b2c5c-904f-4932-b599-8aa1f4325a0c",
   "metadata": {},
   "outputs": [
    {
     "data": {
      "text/plain": [
       "<qiskit.circuit.instructionset.InstructionSet at 0x2b1703d7880>"
      ]
     },
     "execution_count": 4,
     "metadata": {},
     "output_type": "execute_result"
    }
   ],
   "source": [
    "# Apply Hadamard gate to create entanglement in ebit0\n",
    "circuit.h(ebit0)\n",
    "\n",
    "# Apply controlled-X gate to entangle ebit0 and ebit1\n",
    "circuit.cx(ebit0, ebit1)\n",
    "\n",
    "# Add a barrier to visually separate different stages of the circuit\n",
    "circuit.barrier()\n",
    "\n",
    "# Uncomment the line below to display the circuit diagram\n",
    "# display(circuit.draw(output='mpl', style=\"iqp\"))"
   ]
  },
  {
   "cell_type": "markdown",
   "id": "b3e7bbeb-49ed-483d-ab5e-ea7d9f3c9c46",
   "metadata": {},
   "source": [
    "4. **Encoding Information**\n",
    "\n",
    "Quantum gates (**Z** and **X**) are applied conditionally based on the random classical message in register **a1** and **a2**."
   ]
  },
  {
   "cell_type": "code",
   "execution_count": 5,
   "id": "d81a75f7-b0ab-4f57-a6c9-5896b6e7e9a4",
   "metadata": {
    "tags": []
   },
   "outputs": [
    {
     "data": {
      "text/plain": [
       "<qiskit.circuit.instructionset.InstructionSet at 0x2b1703d77c0>"
      ]
     },
     "execution_count": 5,
     "metadata": {},
     "output_type": "execute_result"
    }
   ],
   "source": [
    "# Perform corrections on the entangled qubit (ebit0) based on received classical bits\n",
    "circuit.z(ebit0).c_if(a2, 1)\n",
    "circuit.x(ebit0).c_if(a1, 1)\n",
    "\n",
    "# Add a barrier to visually separate different stages of the circuit\n",
    "circuit.barrier()\n",
    "\n",
    "# Uncomment the line below to display the circuit diagram\n",
    "# display(circuit.draw(output='mpl', style=\"iqp\"))"
   ]
  },
  {
   "cell_type": "markdown",
   "id": "81965bc0-fa9a-45f4-b0cb-9a92363e6c18",
   "metadata": {},
   "source": [
    "5. **Decoding Information**\n",
    "\n",
    "Additional controlled-X (**CX**) and Hadamard (**H**) operations are applied to the qubit **ebit0** for decoding received message."
   ]
  },
  {
   "cell_type": "code",
   "execution_count": 6,
   "id": "203522e9-ab07-4313-8374-4a7201af6ed7",
   "metadata": {
    "tags": []
   },
   "outputs": [
    {
     "data": {
      "text/plain": [
       "<qiskit.circuit.instructionset.InstructionSet at 0x2b170410be0>"
      ]
     },
     "execution_count": 6,
     "metadata": {},
     "output_type": "execute_result"
    }
   ],
   "source": [
    "# Perform additional CX and H operations for decoding incoming message\n",
    "circuit.cx(ebit0, ebit1)\n",
    "circuit.h(ebit0)\n",
    "\n",
    "# Add a barrier to visually separate different stages of the circuit\n",
    "circuit.barrier()\n",
    "\n",
    "# Uncomment the line below to display the circuit diagram\n",
    "# display(circuit.draw(output='mpl', style=\"iqp\"))"
   ]
  },
  {
   "cell_type": "markdown",
   "id": "9654a399-bb8a-4e12-b238-77fdfafb85b8",
   "metadata": {},
   "source": [
    "6. **Measurement**\n",
    "\n",
    "Final measurements of **ebit1** and **ebit0** are performed, and outcomes are stored in classical registers **b1** and **b2** for Bob."
   ]
  },
  {
   "cell_type": "code",
   "execution_count": 7,
   "id": "e2894cad-b91e-4541-82ca-33bc332cda9d",
   "metadata": {
    "tags": []
   },
   "outputs": [
    {
     "data": {
      "image/png": "[encoded data removed]",
      "text/plain": [
       "<Figure size 1125.2x702.333 with 1 Axes>"
      ]
     },
     "metadata": {},
     "output_type": "display_data"
    }
   ],
   "source": [
    "# Perform measurements on entangled qubits and store results in classical registers\n",
    "circuit.measure(ebit1, b1)\n",
    "circuit.measure(ebit0, b2)\n",
    "\n",
    "display(circuit.draw(output='mpl', style=\"iqp\"))"
   ]
  },
  {
   "cell_type": "markdown",
   "id": "c2069a28-036c-44ba-9257-6b28d5d7131e",
   "metadata": {},
   "source": [
    "7. **Simulation and Visualization**\n",
    "\n",
    "The circuit is executed on a quantum simulator, and measurement statistics are retrieved and visualized through a histogram."
   ]
  },
  {
   "cell_type": "code",
   "execution_count": 8,
   "id": "09f8e35f-f9a1-4fe1-b73a-d27052507538",
   "metadata": {
    "tags": []
   },
   "outputs": [
    {
     "data": {
      "image/png": "[encoded data removed]",
      "text/plain": [
       "<Figure size 700x500 with 1 Axes>"
      ]
     },
     "metadata": {},
     "output_type": "display_data"
    }
   ],
   "source": [
    "# Run the simulation and retrieve measurement statistics\n",
    "simulator = Aer.get_backend('qasm_simulator')\n",
    "test2 = execute(circuit, backend=simulator, shots=1024).result()\n",
    "statistics = test2.get_counts(circuit)\n",
    "\n",
    "# Display histogram of measurement statistics\n",
    "display(plot_histogram(statistics))"
   ]
  },
  {
   "cell_type": "markdown",
   "id": "887dac92-8508-4d88-b976-7bdd3960eef6",
   "metadata": {},
   "source": [
    "Bits on histogram above are ordered in **b2 b1 a2 a1** manner. And you can see that corresponding bits **a1-b1** and **a2-b2** always carry the same information. Therefore transfer has been successful."
   ]
  },
  {
   "cell_type": "markdown",
   "id": "f0764afb-0fe1-489b-b59e-57312e86b01d",
   "metadata": {
    "tags": []
   },
   "source": [
    "### **Conclusion**\n",
    "\n",
    "In summary, this documentation provides a comprehensive guide to implementing the superdense coding protocol using Qiskit. Superdense coding, a quantum communication technique leveraging entanglement, efficiently transmits classical information. The code segments cover key stages, including register initialization, entangled state creation, information transfer, measurements, and corrections. Users can gain practical insights into quantum circuitry for superdense coding, contributing to the exploration of quantum communication applications. This document serves as resource for my understanding and implementing superdense coding with Qiskit."
   ]
  },
  {
   "cell_type": "code",
   "execution_count": null,
   "id": "97b4c1a9-d52d-4ecf-92b8-1b884bf01755",
   "metadata": {},
   "outputs": [],
   "source": []
  }
 ],
 "metadata": {
  "kernelspec": {
   "display_name": "Python 3 (ipykernel)",
   "language": "python",
   "name": "python3"
  },
  "language_info": {
   "codemirror_mode": {
    "name": "ipython",
    "version": 3
   },
   "file_extension": ".py",
   "mimetype": "text/x-python",
   "name": "python",
   "nbconvert_exporter": "python",
   "pygments_lexer": "ipython3",
   "version": "3.11.3"
  }
 },
 "nbformat": 4,
 "nbformat_minor": 5
}
