{
 "cells": [
  {
   "cell_type": "code",
   "execution_count": 1,
   "id": "a5eb90a0-0239-4cac-a80e-556149cb1aa7",
   "metadata": {
    "tags": []
   },
   "outputs": [],
   "source": [
    "# Description: Qiskit program demonstrating the Bernstein-Vazirani algorithm to efficiently determine a secret binary string.\n",
    "# The secret binary string is randomly generated and encoded into the quantum circuit. The algorithm utilizes Hadamard gates,\n",
    "# X gates, and controlled-X (CX) gates for efficient revelation of the secret number.\n",
    "\n",
    "# Import necessary modules from Qiskit\n",
    "from qiskit import *\n",
    "from qiskit.tools.visualization import plot_histogram\n",
    "import random\n",
    "%matplotlib inline"
   ]
  },
  {
   "cell_type": "code",
   "execution_count": 7,
   "id": "4e94ae7e-c410-4663-a5b8-83e7f0b98486",
   "metadata": {
    "tags": []
   },
   "outputs": [],
   "source": [
    "# Set a randomly generated secret binary string\n",
    "secretNumber = '11001001110101010'"
   ]
  },
  {
   "cell_type": "code",
   "execution_count": 8,
   "id": "61b96753-619e-4885-8ad1-45fc4012809f",
   "metadata": {
    "tags": []
   },
   "outputs": [],
   "source": [
    "# Create a quantum circuit with qubits for the secret number and an auxiliary qubit\n",
    "circuit = QuantumCircuit(len(secretNumber) + 1, len(secretNumber))"
   ]
  },
  {
   "cell_type": "code",
   "execution_count": 9,
   "id": "c0c20171-e04a-4792-861a-bfc3cbfcc968",
   "metadata": {
    "tags": []
   },
   "outputs": [
    {
     "data": {
      "text/plain": [
       "<qiskit.circuit.instructionset.InstructionSet at 0x7fafe0817d60>"
      ]
     },
     "execution_count": 9,
     "metadata": {},
     "output_type": "execute_result"
    }
   ],
   "source": [
    "# Apply Hadamard gates to all qubits, X gate to the auxiliary qubit, and Hadamard gate to the auxiliary qubit\n",
    "circuit.h(range(len(secretNumber)))\n",
    "circuit.x(len(secretNumber))\n",
    "circuit.h(len(secretNumber))\n",
    "# Explanation: Initialize the quantum state with Hadamard gates for superposition and an auxiliary qubit in state |1>.\n",
    "\n",
    "# Insert a barrier for clarity\n",
    "circuit.barrier()\n",
    "\n",
    "# Apply controlled-X (CX) gates based on the secret binary string\n",
    "for index, one in enumerate(reversed(secretNumber)):\n",
    "    if one == '1':\n",
    "        circuit.cx(index, len(secretNumber))\n",
    "# Explanation: Use controlled-X (CX) gates to entangle qubits based on the secret binary string.\n",
    "\n",
    "# Insert a barrier for clarity\n",
    "circuit.barrier()\n",
    "\n",
    "# Apply Hadamard gates to all qubits\n",
    "circuit.h(range(len(secretNumber)))\n",
    "# Explanation: Apply Hadamard gates again to reverse the superposition and finalize the state.\n",
    "\n",
    "# Insert a barrier for clarity\n",
    "circuit.barrier()\n",
    "\n",
    "# Measure qubits to determine the secret binary string\n",
    "circuit.measure(range(len(secretNumber)), range(len(secretNumber)))\n",
    "# Explanation: Perform measurements to extract information about the secret binary string."
   ]
  },
  {
   "cell_type": "code",
   "execution_count": 13,
   "id": "d003a8bd-b9db-4ccf-8422-4ef5c66a354c",
   "metadata": {
    "tags": []
   },
   "outputs": [],
   "source": [
    "# circuit.draw(output='mpl')"
   ]
  },
  {
   "cell_type": "code",
   "execution_count": 11,
   "id": "e3245488-c6f1-4cad-b81d-b4de9ea1ab91",
   "metadata": {
    "tags": []
   },
   "outputs": [
    {
     "name": "stdout",
     "output_type": "stream",
     "text": [
      "{'11001001110101010': 1}\n"
     ]
    }
   ],
   "source": [
    "# Define the QASM simulator as the backend\n",
    "simulator = Aer.get_backend('qasm_simulator')\n",
    "\n",
    "# Execute the quantum circuit on the simulator with a single shot\n",
    "result = execute(circuit, backend=simulator, shots=1).result()\n",
    "counts = result.get_counts()\n",
    "print(counts)\n",
    "# Explanation: Execute the quantum circuit on a simulator, obtaining the measurement outcomes to reveal the secret binary string."
   ]
  },
  {
   "cell_type": "code",
   "execution_count": null,
   "id": "6294706d-cf68-42dd-b27c-be313d2ddc8f",
   "metadata": {},
   "outputs": [],
   "source": []
  }
 ],
 "metadata": {
  "kernelspec": {
   "display_name": "Python 3 (ipykernel)",
   "language": "python",
   "name": "python3"
  },
  "language_info": {
   "codemirror_mode": {
    "name": "ipython",
    "version": 3
   },
   "file_extension": ".py",
   "mimetype": "text/x-python",
   "name": "python",
   "nbconvert_exporter": "python",
   "pygments_lexer": "ipython3",
   "version": "3.10.8"
  },
  "widgets": {
   "application/vnd.jupyter.widget-state+json": {
    "state": {},
    "version_major": 2,
    "version_minor": 0
   }
  }
 },
 "nbformat": 4,
 "nbformat_minor": 5
}
