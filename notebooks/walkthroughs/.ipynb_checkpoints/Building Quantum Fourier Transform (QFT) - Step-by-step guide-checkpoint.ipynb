{
 "cells": [
  {
   "cell_type": "markdown",
   "id": "10bf2b9a-9a69-4f36-bfcf-2f8a55880efd",
   "metadata": {},
   "source": [
    "# Building Quantum Fourier Transform (QFT) - Step-by-step guide"
   ]
  },
  {
   "cell_type": "markdown",
   "id": "ad84496b-c63f-427e-8ea1-2c153e79201d",
   "metadata": {},
   "source": [
    "## Introduction and Overview of the QFT"
   ]
  },
  {
   "cell_type": "markdown",
   "id": "11359e3b-b7ec-48fd-92af-2f7e20195a10",
   "metadata": {},
   "source": [
    "The **Quantum Fourier Transform (QFT)** is one of the foundational algorithms in quantum computing. It plays a role analogous to the classical **Discrete Fourier Transform (DFT)** in signal processing—but on quantum states rather than on classical data arrays. Because of its ability to transform the computational basis states into equally spaced phase relationships, QFT underpins several of the most significant quantum algorithms known today, including **Shor’s algorithm** for factoring and **phase estimation** algorithms used in quantum chemistry and other applications.\n",
    "\n",
    "In simpler terms, the QFT translates the amplitudes of quantum basis states into a phase representation that can be exponentially more compact and powerful for certain tasks. This is especially apparent in algorithms that leverage interference patterns in the phase of quantum states to extract hidden eigenvalues or periodicities. Classic examples include:\n",
    "\n",
    "- **Shor’s factoring algorithm**: Where the QFT is used to find the period of a function, thus providing the key step to factor large integers efficiently.\n",
    "- **Quantum phase estimation**: Crucial for algorithms that attempt to measure eigenvalues of unitary operators, allowing processes such as the estimation of ground-state energies in molecules (useful in quantum chemistry).\n",
    "\n",
    "Below, we move step by step through building a QFT in Qiskit. Along the way, we discuss each operation in detail—Hadamard gates, controlled phase gates, the significance of reversing qubits, and optional steps like debugging visualization, returning the circuit as a named gate, and implementing the inverse QFT."
   ]
  },
  {
   "cell_type": "markdown",
   "id": "10045deb-951a-4287-9b86-9fa7784d3745",
   "metadata": {},
   "source": [
    "---"
   ]
  },
  {
   "cell_type": "markdown",
   "id": "bd6328e3-ba3e-4c43-9432-bdacff624cc8",
   "metadata": {},
   "source": [
    "## 1. Define the QFT Function"
   ]
  },
  {
   "cell_type": "markdown",
   "id": "e73a6362-21d1-471d-bc36-368ca0fbbcba",
   "metadata": {},
   "source": [
    "```python\n",
    "def qft(num_qubits):\n",
    "    pass\n",
    "```"
   ]
  },
  {
   "cell_type": "markdown",
   "id": "d120ae7c-a662-4f05-80c9-5810cd045a1a",
   "metadata": {},
   "source": [
    "**Explanation**  \n",
    "Here, we start with the absolute skeleton of the QFT algorithm. A function named `qft` takes a single argument `num_qubits`, which represents the number of qubits on which the QFT will operate. Initially, this function does nothing—`pass` is simply a Python placeholder.\n",
    "\n",
    "The reason we define a separate function is to make the QFT modular, reusable, and easy to integrate into larger circuits or to swap out for an inverse QFT if needed. In quantum programming, it’s often beneficial to structure circuits as subroutines (like building blocks or gates) that we can repeatedly insert into more complex algorithms. This approach also allows you to specify parameters (for example, number of qubits, whether to do final swaps, etc.) that can be toggled as needed.\n",
    "\n",
    "Even though this snippet is trivial, the design principle is crucial: you generally want to isolate commonly used quantum routines (like the QFT) into concise, well-structured functions or methods."
   ]
  },
  {
   "cell_type": "markdown",
   "id": "aa826170-532f-430c-8b67-c3e2d5030027",
   "metadata": {},
   "source": [
    "---"
   ]
  },
  {
   "cell_type": "markdown",
   "id": "8c01691b-f117-4ff9-9557-c746c5c6bcd8",
   "metadata": {},
   "source": [
    "## 2. Initialize a Quantum Circuit"
   ]
  },
  {
   "cell_type": "markdown",
   "id": "cfa43160-0c95-4ee0-9ba8-6c0621fb2d6d",
   "metadata": {},
   "source": [
    "```python\n",
    "from qiskit import QuantumCircuit\n",
    "\n",
    "def qft(num_qubits):\n",
    "    circuit = QuantumCircuit(num_qubits)\n",
    "    return circuit\n",
    "```"
   ]
  },
  {
   "cell_type": "markdown",
   "id": "a0cc0165-5803-417e-a0d1-8c706775b440",
   "metadata": {},
   "source": [
    "**Explanation**  \n",
    "We import `QuantumCircuit` from the qiskit library, which is IBM’s open-source framework for quantum computing.\n",
    "\n",
    "We instantiate a circuit with the specified number of qubits, something like `QuantumCircuit(num_qubits)`.\n",
    "\n",
    "We return the circuit as is.\n",
    "\n",
    "At this point, the circuit is blank—it has `num_qubits` qubits, but we haven’t added any gates or operations yet. In standard quantum computing notation, a circuit with $n$ qubits is typically conceptualized as $n$ horizontal “wires” evolving from left to right, with gates placed along these wires at particular timesteps. This snippet sets that stage, providing a ready-to-be-decorated quantum circuit object."
   ]
  },
  {
   "cell_type": "markdown",
   "id": "93c372ae-dd2e-4743-b4fd-534af791e805",
   "metadata": {},
   "source": [
    "---"
   ]
  },
  {
   "cell_type": "markdown",
   "id": "ccec0b7c-45e6-46ac-931b-6d506bcf2d0b",
   "metadata": {},
   "source": [
    "## 3. Iterate Over Qubits in Reverse"
   ]
  },
  {
   "cell_type": "markdown",
   "id": "469332be-b968-4903-bfd4-ff962c7a3aac",
   "metadata": {},
   "source": [
    "```python\n",
    "def qft(num_qubits):\n",
    "    circuit = QuantumCircuit(num_qubits)\n",
    "    for control in reversed(range(num_qubits)):\n",
    "        pass\n",
    "    return circuit\n",
    "```"
   ]
  },
  {
   "cell_type": "markdown",
   "id": "765e876d-cf5e-4f68-b644-4174b28d282b",
   "metadata": {},
   "source": [
    "**Explanation**  \n",
    "Here, we introduce a loop that goes over the qubits in reverse order. Why reverse? Because the QFT is conventionally constructed from the most significant qubit (MSQ) to the least significant qubit (LSQ). If you label your qubits from $0$ to $n-1$, the most significant qubit might be qubit $n-1$. This convention arises from how we encode quantum states in the computational basis.\n",
    "\n",
    "In particular, a basis state \n",
    "$$\n",
    "|x\\rangle\n",
    "$$ \n",
    "for an $n$-qubit system can be written as:\n",
    "\n",
    "$$\n",
    "|x\\rangle = |x_{n-1}\\, x_{n-2}\\, \\dots\\, x_1\\, x_0\\rangle,\n",
    "$$\n",
    "\n",
    "where each $x_i \\in \\{0,1\\}$. Often, $x_{n-1}$ is considered the most significant bit. Iterating in reverse ensures we apply the first step of the QFT to the top qubit first.\n",
    "\n",
    "In practice, many quantum software frameworks label qubits in ways that can cause slight confusion (e.g., qubit 0 could be physically at the top or bottom in the drawn circuit). Sticking to a consistent pattern—like reversed iteration—helps align with the canonical mathematical definitions of the QFT."
   ]
  },
  {
   "cell_type": "markdown",
   "id": "c0c39247-50ec-4e65-bd02-5136ea8eb7d9",
   "metadata": {},
   "source": [
    "---"
   ]
  },
  {
   "cell_type": "markdown",
   "id": "d39741ea-7843-47bf-9153-33199ff8ada1",
   "metadata": {},
   "source": [
    "## 4. Apply Hadamard Gates"
   ]
  },
  {
   "cell_type": "markdown",
   "id": "bf1dc591-8ebf-4588-b3dd-658a4f3c2eb9",
   "metadata": {},
   "source": [
    "```python\n",
    "def qft(num_qubits):\n",
    "    circuit = QuantumCircuit(num_qubits)\n",
    "    for control in reversed(range(num_qubits)):\n",
    "        circuit.h(control)\n",
    "    return circuit\n",
    "```"
   ]
  },
  {
   "cell_type": "markdown",
   "id": "e9dbd40e-f88e-4f13-897b-6a291d8b1abc",
   "metadata": {},
   "source": [
    "**Explanation**  \n",
    "We see a direct introduction of the Hadamard gate here. The Hadamard gate ($H$) is used to transform a single computational basis state \n",
    "$$\n",
    "|0\\rangle\n",
    "$$ \n",
    "into an equal superposition\n",
    "\n",
    "$$\n",
    "\\frac{1}{\\sqrt{2}} \\left(|0\\rangle + |1\\rangle\\right).\n",
    "$$\n",
    "\n",
    "More generally, applying $H$ on $|0\\rangle$ or $|1\\rangle$ sets up the superpositions needed for interference patterns to form in subsequent steps.\n",
    "\n",
    "In the context of the QFT, the Hadamard gate on each qubit is the crucial first step in generating the “Fourier-like” phases.\n",
    "\n",
    "At this stage:\n",
    "\n",
    "- We loop through our qubits in reverse order.\n",
    "- We apply `circuit.h(control)` on each qubit, effectively placing each qubit into a superposition.\n",
    "- No phase relationships have been set yet—those come in the subsequent steps with controlled phase gates."
   ]
  },
  {
   "cell_type": "markdown",
   "id": "000d5160-0efa-4907-bb6f-d3e528eeb251",
   "metadata": {},
   "source": [
    "---"
   ]
  },
  {
   "cell_type": "markdown",
   "id": "47b6851f-1201-4ef9-a413-1f3ad4543d2d",
   "metadata": {},
   "source": [
    "## 5. Add a Nested Loop for Controlled Phase Gates"
   ]
  },
  {
   "cell_type": "markdown",
   "id": "dcfae7da-eac5-4b22-b188-92017e9d5a7f",
   "metadata": {},
   "source": [
    "```python\n",
    "def qft(num_qubits):\n",
    "    circuit = QuantumCircuit(num_qubits)\n",
    "    for control in reversed(range(num_qubits)):\n",
    "        circuit.h(control)\n",
    "        for target in reversed(range(control)):\n",
    "            pass\n",
    "    return circuit\n",
    "```"
   ]
  },
  {
   "cell_type": "markdown",
   "id": "99658a88-dd22-4a2d-a42e-4149ba9f79d7",
   "metadata": {},
   "source": [
    "**Explanation**  \n",
    "Now we introduce a second loop, nested within the first, iterating over a target qubit index that runs in reverse from `control-1` down to 0. This sets the stage for applying controlled-phase gates (CP gates, often referred to as $C R_k$ gates in QFT contexts).\n",
    "\n",
    "In a standard QFT, each qubit undergoes not just a Hadamard but also accumulates carefully orchestrated phases relative to the states of the other qubits. That’s what the inner loop is for: for each “control” qubit, we will apply phase shifts to all lower-index qubits, so that if the lower qubit is set, it changes the phase of the higher qubit by a specific fraction of $\\pi$.\n",
    "\n",
    "This step is key to building up the exponential-phase relationships that define the Fourier transform in the quantum domain. The nested loop is the hallmark of the standard QFT circuit, ensuring each pair of qubits has the correct entangling phase relationship."
   ]
  },
  {
   "cell_type": "markdown",
   "id": "2ad07d3d-4169-4766-a409-abf230ec7abc",
   "metadata": {},
   "source": [
    "---"
   ]
  },
  {
   "cell_type": "markdown",
   "id": "6177ac26-5a12-43bc-8056-a0e05444d4f1",
   "metadata": {},
   "source": [
    "## 6. Calculate the Phase Rotation Angle"
   ]
  },
  {
   "cell_type": "markdown",
   "id": "a7e8a79b-c949-43ed-a825-ea6ba41275a5",
   "metadata": {},
   "source": [
    "```python\n",
    "from numpy import pi\n",
    "\n",
    "def qft(num_qubits):\n",
    "    circuit = QuantumCircuit(num_qubits)\n",
    "    for control in reversed(range(num_qubits)):\n",
    "        circuit.h(control)\n",
    "        for target in reversed(range(control)):\n",
    "            angle = pi / (2 ** (control - target))\n",
    "    return circuit\n",
    "```"
   ]
  },
  {
   "cell_type": "markdown",
   "id": "d821fd61-5612-4efd-9eb4-13c63184d508",
   "metadata": {},
   "source": [
    "**Explanation**  \n",
    "In quantum computing, angles for rotation gates typically revolve around multiples of $\\pi$. Here, we compute the angle for the controlled-phase (sometimes called a controlled-rotation) to be:\n",
    "\n",
    "$$\n",
    "\\theta = \\frac{\\pi}{2^{\\text{(control} - \\text{target)}}}.\n",
    "$$\n",
    "\n",
    "Why is that exponent in the denominator? In the QFT, the idea is that for a given qubit (control), we apply progressively smaller phase shifts on qubits with lower indices. Concretely:\n",
    "\n",
    "- If `control = 3` and `target = 2`, the rotation might be \n",
    "  $$\n",
    "  \\frac{\\pi}{2^{(3-2)}} = \\frac{\\pi}{2}.\n",
    "  $$\n",
    "- If `control = 3` and `target = 1`, the rotation becomes \n",
    "  $$\n",
    "  \\frac{\\pi}{2^{(3-1)}} = \\frac{\\pi}{4}.\n",
    "  $$\n",
    "- If `control = 3` and `target = 0`, the rotation is \n",
    "  $$\n",
    "  \\frac{\\pi}{2^{(3-0)}} = \\frac{\\pi}{8}.\n",
    "  $$\n",
    "\n",
    "These diminishing phase increments form the pattern that leads to the constructive or destructive interference that the QFT harnesses.\n",
    "\n",
    "Remember that a quantum state for $n$ qubits can be conceptually described as a superposition of all $2^n$ computational basis states:\n",
    "\n",
    "$$\n",
    "|\\psi\\rangle = \\sum_{x=0}^{2^n-1} \\alpha_x \\, |x\\rangle.\n",
    "$$\n",
    "\n",
    "The QFT transforms these amplitudes $\\alpha_x$ into a new basis whose phases are carefully spaced. The angle $\\theta$ is essential to that spacing."
   ]
  },
  {
   "cell_type": "markdown",
   "id": "901c1296-d657-484f-8018-b7753626e4aa",
   "metadata": {},
   "source": [
    "---"
   ]
  },
  {
   "cell_type": "markdown",
   "id": "34b65fd9-8c26-4baa-9a03-d507b9684fdf",
   "metadata": {},
   "source": [
    "## 7. Apply the Controlled-Phase Gates"
   ]
  },
  {
   "cell_type": "markdown",
   "id": "d49cfd82-2737-4738-8c1c-4cdb8c4fd53d",
   "metadata": {},
   "source": [
    "```python\n",
    "def qft(num_qubits):\n",
    "    circuit = QuantumCircuit(num_qubits)\n",
    "    for control in reversed(range(num_qubits)):\n",
    "        circuit.h(control)\n",
    "        for target in reversed(range(control)):\n",
    "            angle = pi / (2 ** (control - target))\n",
    "            circuit.cp(angle, target, control)\n",
    "    return circuit\n",
    "```"
   ]
  },
  {
   "cell_type": "markdown",
   "id": "c8150b0d-4dea-43d8-929c-244147b256e6",
   "metadata": {},
   "source": [
    "**Explanation**  \n",
    "This step is where the real magic of the QFT is introduced: we explicitly attach the controlled-phase gate, denoted in Qiskit as `circuit.cp(angle, target, control)`.\n",
    "\n",
    "A controlled-phase gate can be viewed as a gate that does nothing if the control qubit is \n",
    "$$\n",
    "|0\\rangle,\n",
    "$$ \n",
    "but if the control qubit is \n",
    "$$\n",
    "|1\\rangle,\n",
    "$$ \n",
    "it applies a phase rotation of \n",
    "$$\n",
    "e^{i\\theta}\n",
    "$$ \n",
    "on the target qubit’s amplitude. In Qiskit’s parlance, `cp(angle, target, control)` means that the control qubit triggers a phase $e^{i\\theta}$ on the target qubit.\n",
    "\n",
    "In QFT terms, these gates cumulatively shift the global phase of the quantum state in a manner that sets up the Fourier transform.\n",
    "\n",
    "By the time you finish these nested loops, you have a chain of Hadamard gates and controlled-phase gates that correspond to the standard QFT circuit for $n$ qubits.\n",
    "\n",
    "Mathematically, if we label each qubit as $q_i$ with $i \\in \\{0, 1, \\dots, n-1\\}$ (where $q_{n-1}$ is the topmost qubit in the typical QFT diagram), each qubit accumulates phases from all lower qubits. After all these gates, the output state is the QFT of the input state."
   ]
  },
  {
   "cell_type": "markdown",
   "id": "cd16b58a-3743-4ac9-84ac-c66ae042cdaf",
   "metadata": {},
   "source": [
    "---"
   ]
  },
  {
   "cell_type": "markdown",
   "id": "bec615ac-4f48-4291-9458-56daae89d97d",
   "metadata": {},
   "source": [
    "## 8. Add Optional Swap Reversal Logic"
   ]
  },
  {
   "cell_type": "markdown",
   "id": "87c1aff6-94a4-4325-b404-d42a5f88657a",
   "metadata": {},
   "source": [
    "```python\n",
    "def qft(num_qubits, do_swaps=False):\n",
    "    circuit = QuantumCircuit(num_qubits)\n",
    "    for control in reversed(range(num_qubits)):\n",
    "        circuit.h(control)\n",
    "        for target in reversed(range(control)):\n",
    "            angle = pi / (2 ** (control - target))\n",
    "            circuit.cp(angle, target, control)\n",
    "    if do_swaps:\n",
    "        for i in range(num_qubits // 2):\n",
    "            circuit.swap(i, num_qubits - i - 1)\n",
    "    return circuit\n",
    "```"
   ]
  },
  {
   "cell_type": "markdown",
   "id": "c5d2a5a1-de87-4a95-83fc-b63ec23e9d0b",
   "metadata": {},
   "source": [
    "**Explanation**  \n",
    "An important detail in the standard QFT is that, in many definitions, the qubit order is reversed between input and output. That is, if you label the qubits from $0$ to $n-1$ going downwards, the pure QFT gate effectively outputs the state in reversed order of qubits.\n",
    "\n",
    "Why does this reversal occur? The mathematical definition of the QFT has us define transformations that effectively reorder the significance of the bits in the output. We can either:\n",
    "\n",
    "1. Accept this reversed order as part of the QFT’s definition, or  \n",
    "2. “Swap” qubits at the end to restore them into their “natural” ascending or descending order.\n",
    "\n",
    "This code snippet introduces a parameter `do_swaps`. If `do_swaps=True`, it goes through half of the qubits (from $i = 0$ to $i = \\lfloor (n-1)/2 \\rfloor$) and swaps each qubit $i$ with qubit $n-i-1$. This physically reorders the circuit so the output registers match the conventional bit-labeling.\n",
    "\n",
    "Without these swaps: The final state is still the QFT, but the indices of the qubits are reversed relative to what you might expect.\n",
    "\n",
    "With these swaps: You get the QFT result in a more conventional ordering.\n",
    "\n",
    "This distinction matters when you integrate the QFT into larger algorithms that might rely on a particular indexing (e.g., Shor’s algorithm)."
   ]
  },
  {
   "cell_type": "markdown",
   "id": "34fd53e4-a64e-48ac-8cd5-236ca2fe07fd",
   "metadata": {},
   "source": [
    "---"
   ]
  },
  {
   "cell_type": "markdown",
   "id": "ca2e0aa5-d8be-4d15-9bf3-288bdd24ff3f",
   "metadata": {},
   "source": [
    "## 9. Convert to Inverse QFT (Optional)"
   ]
  },
  {
   "cell_type": "markdown",
   "id": "74fae313-692b-4f7f-9ceb-87ea392b267c",
   "metadata": {},
   "source": [
    "```python\n",
    "def qft(num_qubits, do_swaps=False, inverse=False):\n",
    "    circuit = QuantumCircuit(num_qubits)\n",
    "    qubit_range = range(num_qubits) if inverse else reversed(range(num_qubits))\n",
    "    for control in qubit_range:\n",
    "        circuit.h(control)\n",
    "        target_range = range(control + 1, num_qubits) if inverse else reversed(range(control))\n",
    "        for target in target_range:\n",
    "            angle = pi / (2 ** abs(control - target))\n",
    "            if inverse:\n",
    "                angle = -angle\n",
    "            circuit.cp(angle, target, control)\n",
    "    if do_swaps:\n",
    "        for i in range(num_qubits // 2):\n",
    "            circuit.swap(i, num_qubits - i - 1)\n",
    "    return circuit\n",
    "```"
   ]
  },
  {
   "cell_type": "markdown",
   "id": "a844afcd-d0c9-46ca-964d-e58aca7791b6",
   "metadata": {},
   "source": [
    "**Explanation**  \n",
    "Now we add the capability to choose between QFT and Inverse QFT (often denoted $QFT^\\dagger$) via the `inverse` flag:\n",
    "\n",
    "- If `inverse=False`, we run the standard QFT logic (the same logic we built in the earlier steps: reversing the qubits, applying Hadamards, applying progressive phases).\n",
    "\n",
    "- If `inverse=True`, we do two main changes:\n",
    "  - We iterate forward (so `range(num_qubits)`) instead of backward.\n",
    "  - We negate the angle: `angle = -angle`.\n",
    "\n",
    "Mathematically, the inverse QFT is the Hermitian adjoint ($\\dagger$) of the QFT. For a classical Fourier transform, the inverse differs by using a complex conjugate exponent and a normalization factor. In quantum computing, normalization factors are often embedded within the definitions of the gates (like the Hadamard’s built-in $\\frac{1}{\\sqrt{2}}$), so you only need to worry about changing the sign of the exponent to get the inverse.\n",
    "\n",
    "You might be wondering: “When do I need the inverse QFT?” In many quantum algorithms, the inverse QFT is used to transform the state back from the Fourier basis to the computational basis, especially if you’re about to do a measurement or you want to interpret the output in a typical integer-based format. In Shor’s algorithm, for example, you feed a superposition into a series of controlled operations, and just before measuring, you apply the inverse QFT to decode the phases into a classical register that reveals the periodicity of a function."
   ]
  },
  {
   "cell_type": "markdown",
   "id": "ec29b99e-5e62-403d-b894-e63f8d33f1c3",
   "metadata": {},
   "source": [
    "---"
   ]
  },
  {
   "cell_type": "markdown",
   "id": "22015c55-c946-496e-b096-5ebe340fe6ac",
   "metadata": {},
   "source": [
    "## 10. Add Debugging Support with Display Option"
   ]
  },
  {
   "cell_type": "markdown",
   "id": "3f9f1eaa-1a17-42f5-a41b-4bf85aec4c66",
   "metadata": {},
   "source": [
    "```python\n",
    "from IPython.display import display\n",
    "\n",
    "def qft(num_qubits, do_swaps=False, inverse=False, debug=False):\n",
    "    circuit = QuantumCircuit(num_qubits)\n",
    "    qubit_range = range(num_qubits) if inverse else reversed(range(num_qubits))\n",
    "    for control in qubit_range:\n",
    "        circuit.h(control)\n",
    "        target_range = range(control + 1, num_qubits) if inverse else reversed(range(control))\n",
    "        for target in target_range:\n",
    "            angle = pi / (2 ** abs(control - target))\n",
    "            if inverse:\n",
    "                angle = -angle\n",
    "            circuit.cp(angle, target, control)\n",
    "    if do_swaps:\n",
    "        for i in range(num_qubits // 2):\n",
    "            circuit.swap(i, num_qubits - i - 1)\n",
    "    if debug:\n",
    "        display(circuit.draw('mpl'))\n",
    "    return circuit\n",
    "```"
   ]
  },
  {
   "cell_type": "markdown",
   "id": "d6fdc643-6101-48d2-ab4e-71295252d14a",
   "metadata": {},
   "source": [
    "**Explanation**  \n",
    "Debugging quantum circuits is essential, especially for learning and demonstration. By introducing a `debug` flag:\n",
    "\n",
    "- If `debug=True`, the circuit draws itself using the standard matplotlib rendering within a Jupyter notebook or other IPython environment.\n",
    "- If `debug=False`, no visualization occurs.\n",
    "\n",
    "Because quantum circuits can quickly become large or complex, a “live” diagram is often extremely helpful to see precisely which gates appear where, in what order, and on which qubits. This is especially useful for verifying that the qubit iteration is in the correct direction and that controlled-phase gates are indeed hooking the correct control and target lines.\n",
    "\n",
    "Practically, you’d only turn on debug mode while you’re verifying or teaching how the QFT works. In production-level code—where you might chain multiple circuits together—this repeated drawing is likely unnecessary (and can slow your code)."
   ]
  },
  {
   "cell_type": "markdown",
   "id": "f7a57000-c6da-4581-80d9-4b8a49f1f692",
   "metadata": {},
   "source": [
    "---"
   ]
  },
  {
   "cell_type": "markdown",
   "id": "abc02ca0-71b7-4134-9131-041fdd97c203",
   "metadata": {},
   "source": [
    "## 11. Return the Circuit as a Named Gate"
   ]
  },
  {
   "cell_type": "markdown",
   "id": "a7e2a0fc-4c69-4abe-899b-33fe45a68b3d",
   "metadata": {},
   "source": [
    "```python\n",
    "def qft(num_qubits, do_swaps=False, inverse=False, debug=False):\n",
    "    label = f\"QFT ({num_qubits})\" if not inverse else f\"QFT† ({num_qubits})\"\n",
    "    circuit = QuantumCircuit(num_qubits, name=label)\n",
    "    qubit_range = range(num_qubits) if inverse else reversed(range(num_qubits))\n",
    "    for control in qubit_range:\n",
    "        circuit.h(control)\n",
    "        target_range = range(control + 1, num_qubits) if inverse else reversed(range(control))\n",
    "        for target in target_range:\n",
    "            angle = pi / (2 ** abs(control - target))\n",
    "            if inverse:\n",
    "                angle = -angle\n",
    "            circuit.cp(angle, target, control)\n",
    "    if do_swaps:\n",
    "        for i in range(num_qubits // 2):\n",
    "            circuit.swap(i, num_qubits - i - 1)\n",
    "    if debug:\n",
    "        display(circuit.draw('mpl'))\n",
    "    return circuit.to_gate(label=label)\n",
    "```"
   ]
  },
  {
   "cell_type": "markdown",
   "id": "48c58b32-cddb-4c55-8324-14e72d14f22d",
   "metadata": {},
   "source": [
    "**Explanation**  \n",
    "Finally, we integrate everything into a gate object:\n",
    "\n",
    "- We create a `QuantumCircuit` and give it a `name=label` such as `\"QFT (3)\"` or `\"QFT† (4)\"`, depending on whether we’re using an inverse transform.\n",
    "- We carry out the same logic for the QFT/inverse QFT.\n",
    "- We optionally do debugging visualization.\n",
    "- Crucially, we return `circuit.to_gate(...)`. This transforms our circuit into a single gate object that can be appended to other circuits as a standalone gate.\n",
    "\n",
    "This is powerful because you often want to build modular gates: define the logic once, give it a label, and then reuse it repeatedly in larger algorithms. Instead of seeing a labyrinth of controlled-phase gates in your main circuit diagram, you simply see a single box labeled “QFT.” This is not only more readable but also helps in potential optimizations, conceptual clarity, and code organization."
   ]
  },
  {
   "cell_type": "markdown",
   "id": "82f30e05-211b-49f6-9239-542758a8708a",
   "metadata": {},
   "source": [
    "---"
   ]
  },
  {
   "cell_type": "markdown",
   "id": "c17a98cf-72cc-46c3-884e-b83be3764e24",
   "metadata": {},
   "source": [
    "## Why the QFT Is Important"
   ]
  },
  {
   "cell_type": "markdown",
   "id": "e9c6d34a-fbf8-4467-b369-96359c6ed3ff",
   "metadata": {},
   "source": [
    "### Exponential Speedups in Some Domains"
   ]
  },
  {
   "cell_type": "markdown",
   "id": "55491dfd-b203-4cff-b63e-47d370e377d4",
   "metadata": {},
   "source": [
    "QFT underlies quantum algorithms with exponential speedups over classical methods. Shor’s factoring algorithm—one of the canonical examples—would not be possible without the QFT’s ability to compute discrete Fourier transforms of large integer wavefunctions."
   ]
  },
  {
   "cell_type": "markdown",
   "id": "6debb866-3026-4f1f-a469-8cba9221a40a",
   "metadata": {},
   "source": [
    "### Phase Estimation"
   ]
  },
  {
   "cell_type": "markdown",
   "id": "63680863-f63b-44f6-94cd-01f6a070224e",
   "metadata": {},
   "source": [
    "Many quantum algorithms revolve around discovering phases or eigenvalues of certain operators (for instance, in the Hamiltonians for chemistry problems). The QFT is the crucial subroutine in the “phase estimation” block of these algorithms, which in turn underpins quantum simulation and quantum chemistry."
   ]
  },
  {
   "cell_type": "markdown",
   "id": "8a3f0863-7143-4c8b-9f53-9adcdacb1a70",
   "metadata": {},
   "source": [
    "### Modular Construction and Versatility"
   ]
  },
  {
   "cell_type": "markdown",
   "id": "1b39cd14-2303-45d7-9c24-1befd5d1e1c0",
   "metadata": {},
   "source": [
    "Much as the classical Fast Fourier Transform is used in countless applications from signal processing to solving partial differential equations, the QFT has a wide conceptual reach. It provides a quantum version of those functionalities while exploiting superposition and interference."
   ]
  },
  {
   "cell_type": "markdown",
   "id": "b076c361-388a-4fe2-acfd-cb0b4d0cb625",
   "metadata": {},
   "source": [
    "### Foundation for Future Protocols"
   ]
  },
  {
   "cell_type": "markdown",
   "id": "e6bc74c7-5098-4621-a431-24b342dab22e",
   "metadata": {},
   "source": [
    "As quantum hardware scales, we anticipate new algorithms that rely on transform-based manipulations. The QFT is among the best-studied, so it’s an ideal textbook example of how quantum gates can replicate the effect of well-known classical transformations."
   ]
  },
  {
   "cell_type": "markdown",
   "id": "1e561a1d-a215-4f4f-8146-7ae83c801107",
   "metadata": {},
   "source": [
    "### Mathematical Underpinnings"
   ]
  },
  {
   "cell_type": "markdown",
   "id": "e029c479-fc7a-4f47-8790-619139de7110",
   "metadata": {},
   "source": [
    "Recall that the classical Discrete Fourier Transform (DFT) of a vector \n",
    "$$\n",
    "\\left(x_0, x_1, \\dots, x_{N-1}\\right)\n",
    "$$ \n",
    "of length $N$ is:\n",
    "\n",
    "$$\n",
    "X_k = \\frac{1}{N} \\sum_{j=0}^{N-1} x_j \\, e^{\\frac{2\\pi i \\, j \\, k}{N}}, \\quad k = 0, \\dots, N-1.\n",
    "$$\n",
    "\n",
    "For the quantum Fourier transform, we define a unitary operator $U_{QFT}$ acting on $n$ qubits (so $N = 2^n$):\n",
    "\n",
    "$$\n",
    "U_{QFT}: \\ |j\\rangle \\mapsto \\frac{1}{\\sqrt{2^n}} \\sum_{k=0}^{2^n-1} \\exp\\!\\left(\\frac{2\\pi i \\, j \\, k}{2^n}\\right) |k\\rangle.\n",
    "$$\n",
    "\n",
    "This transformation can be decomposed into the sequence of gates (Hadamard + controlled-phase + optional reversal) shown in the code. The exponent \n",
    "$$\n",
    "\\frac{2\\pi i \\, j \\, k}{2^n}\n",
    "$$ \n",
    "effectively emerges from the progressive phase gates.\n",
    "\n",
    "Notably, the normalization factor \n",
    "$$\n",
    "\\frac{1}{\\sqrt{2^n}}\n",
    "$$ \n",
    "is typically “built into” the product of many $\\frac{1}{\\sqrt{2}}$ factors from the Hadamard gates. In practice, from a hardware perspective, you don’t always see a final multiply-by-$\\frac{1}{\\sqrt{2^n}}$."
   ]
  },
  {
   "cell_type": "markdown",
   "id": "852920b9-0832-416e-955d-48718c3a104e",
   "metadata": {},
   "source": [
    "### Common Use Cases of QFT"
   ]
  },
  {
   "cell_type": "markdown",
   "id": "fba8e562-2117-42b3-b62b-633162d18476",
   "metadata": {},
   "source": [
    "- **Shor’s Algorithm**: The QFT is used for period finding. Given a function \n",
    "  $$\n",
    "  f(x) = a^x \\bmod N,\n",
    "  $$\n",
    "  the QFT can detect the period $r$ of $f$ (i.e., $f(x+r) = f(x)$) by extracting the phase relationship in the state.\n",
    "- **Phase Estimation**: Suppose you have a unitary $U$ whose eigenvalues you want to find. You create a superposition, apply controlled-$U$ gates, then do the inverse QFT to read off the phase that corresponds to the eigenvalue.\n",
    "- **Quantum Signal Processing**: In more advanced (though still developing) applications, a version of the QFT might help in signal processing tasks where the signals are encoded in amplitudes or phases on quantum hardware."
   ]
  },
  {
   "cell_type": "markdown",
   "id": "0a5fa5b8-ddb6-4d90-ad90-de300b801431",
   "metadata": {},
   "source": [
    "### Performance Considerations"
   ]
  },
  {
   "cell_type": "markdown",
   "id": "2e133108-80b7-4eb6-9faa-551c1b9c3733",
   "metadata": {},
   "source": [
    "A naive QFT circuit has $O(n^2)$ gates (the nested loops create on the order of $\\frac{n(n-1)}{2}$ controlled operations). There is a known method for a Fast QFT that can reduce the complexity further, though it’s a bit more involved on quantum hardware than the classical FFT is on classical computers. The standard decomposition we’ve shown is quite feasible for smaller to moderate $n$. For very large $n$, direct QFT might not be the best approach on near-term quantum hardware due to noise and gate errors; however, the principle remains fundamental."
   ]
  },
  {
   "cell_type": "markdown",
   "id": "0c54e286-6832-40db-92b8-863ff2a0a36e",
   "metadata": {},
   "source": [
    "### Intuitive Understanding"
   ]
  },
  {
   "cell_type": "markdown",
   "id": "77e77ca4-5969-4cdf-8852-e78c08a086bf",
   "metadata": {},
   "source": [
    "One way to build intuition around the QFT is to realize it “maps from the computational basis to the phase basis.” Suppose you have the state \n",
    "$$\n",
    "|1\\rangle.\n",
    "$$\n",
    "\n",
    "After a QFT on one qubit, $|1\\rangle$ typically goes to:\n",
    "\n",
    "$$\n",
    "\\frac{1}{\\sqrt{2}}\\left(|0\\rangle + e^{2\\pi i \\cdot \\frac{1}{2}} |1\\rangle\\right),\n",
    "$$\n",
    "\n",
    "which is:\n",
    "\n",
    "$$\n",
    "\\frac{1}{\\sqrt{2}}\\left(|0\\rangle + e^{\\pi i} |1\\rangle\\right).\n",
    "$$\n",
    "\n",
    "Because \n",
    "$$\n",
    "e^{\\pi i} = -1,\n",
    "$$\n",
    "that means $|1\\rangle$ transforms to\n",
    "\n",
    "$$\n",
    "\\frac{1}{\\sqrt{2}}\\left(|0\\rangle - |1\\rangle\\right).\n",
    "$$\n",
    "\n",
    "For multiple qubits, the pattern grows in complexity, but we see that each integer index in the computational basis picks up a distinct “fingerprint” of phases across the qubits.\n",
    "\n",
    "When measured or used in interference steps, these phases can reveal hidden periodicities in exponentiation or in group structures—exactly what’s needed for advanced quantum algorithms."
   ]
  },
  {
   "cell_type": "markdown",
   "id": "b7ef9c3a-1a1d-4940-b27f-adb16ea8bf7c",
   "metadata": {},
   "source": [
    "### Potential Pitfalls and Tips"
   ]
  },
  {
   "cell_type": "markdown",
   "id": "3038d34a-66e5-408e-8081-657992bb7ca0",
   "metadata": {},
   "source": [
    "- **Index Conventions**: Always keep track of your qubit ordering. Some textbooks place the least significant qubit at the bottom line of a circuit; others place it at the top. The reversing logic can be confusing if you’re not consistent in how you label qubits.\n",
    "- **Normalization**: The global factors of \n",
    "  $$\n",
    "  \\frac{1}{\\sqrt{2^n}}\n",
    "  $$\n",
    "  are typically distributed among the gates themselves (like the Hadamard). Double-check if you need an overall factor in front if you’re doing purely theoretical calculations vs. using Qiskit’s built-in gates.\n",
    "- **Large Qubit Counts**: Running a QFT on 20 or 30 qubits is interesting but very expensive to simulate classically. Real quantum hardware is limited in qubit numbers and fidelity, but demonstrations of small-scale QFT remain valuable for proof-of-concept.\n",
    "- **Inverse QFT vs. QFT**: If your algorithm’s mathematics says you need \n",
    "  $$\n",
    "  QFT^\\dagger,\n",
    "  $$\n",
    "  ensure you set `inverse=True` or implement it explicitly. The difference is not just ignoring the reversing swaps but also in the sign of the angles."
   ]
  },
  {
   "cell_type": "markdown",
   "id": "9069858a-0072-4d0b-ad49-288f1959f2c8",
   "metadata": {},
   "source": [
    "### Concluding Thoughts"
   ]
  },
  {
   "cell_type": "markdown",
   "id": "c8623050-c367-46bd-aedc-33400d984d0c",
   "metadata": {},
   "source": [
    "The QFT, while seemingly a straightforward generalization of the classical Fourier transform into the quantum world, stands at the heart of some of the most important achievements in quantum algorithms. By walking through the code line by line, you have seen how a few building blocks (Hadamard gates, nested loops of controlled-phase gates, optional qubit swapping, and sign flips for the inverse) can come together to enact a transformation that classical computers can only emulate with significant overhead.\n",
    "\n",
    "Quantum computing is still in its infancy, but the QFT remains essential as a subroutine in many advanced protocols—particularly as error correction and hardware improvements open the door for larger-scale experiments.\n",
    "\n",
    "By modularizing the QFT into a function that returns a gate, you ensure that you can easily drop this QFT block into any circuit, combine it with classical control flows, or measure partial qubits in the middle of your transformations. Moreover, you can readily apply the inverse QFT to decode phases back into classical measurements."
   ]
  },
  {
   "cell_type": "markdown",
   "id": "a3179060-c48d-4a2c-a672-eaadcb876fbe",
   "metadata": {},
   "source": [
    "**Key Takeaways:**"
   ]
  },
  {
   "cell_type": "markdown",
   "id": "5792e8b1-4b33-45c1-9830-eff5f9c6ff83",
   "metadata": {},
   "source": [
    "- QFT is essentially a gate-by-gate implementation of the transformation that mirrors the classical DFT.\n",
    "- **Core steps:**\n",
    "  - Apply Hadamard gates on each qubit in descending order.\n",
    "  - For each qubit, apply progressively smaller phase shifts on all lower qubits using controlled-phase gates.\n",
    "  - (Optional) Swap qubits to restore conventional ordering.\n",
    "  - (Optional) Negate the rotation angles (and flip iteration order) to obtain the inverse QFT.\n",
    "- Use `debug=True` to visualize your circuit in Qiskit, ensuring correct gate placement before running on hardware or a simulator.\n",
    "- Return a named gate to keep your main circuits cleaner and more understandable.\n",
    "\n",
    "Armed with this knowledge and code, you can incorporate the QFT into various algorithms—experimenting, for example, with small circuits that highlight how the QFT redistributes amplitude phases or using the inverse QFT to “decode” those phases back into classical measurements. In addition, this guide provides a springboard for exploring deeper quantum algorithms that rely on the QFT as a subroutine, such as factoring and phase estimation."
   ]
  },
  {
   "cell_type": "code",
   "execution_count": null,
   "id": "bccc77d0-5254-4c44-957c-929be6e512c7",
   "metadata": {},
   "outputs": [],
   "source": []
  }
 ],
 "metadata": {
  "kernelspec": {
   "display_name": "Python 3 (ipykernel)",
   "language": "python",
   "name": "python3"
  },
  "language_info": {
   "codemirror_mode": {
    "name": "ipython",
    "version": 3
   },
   "file_extension": ".py",
   "mimetype": "text/x-python",
   "name": "python",
   "nbconvert_exporter": "python",
   "pygments_lexer": "ipython3",
   "version": "3.13.2"
  }
 },
 "nbformat": 4,
 "nbformat_minor": 5
}
