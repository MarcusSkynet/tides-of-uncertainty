{
 "cells": [
  {
   "cell_type": "markdown",
   "id": "792901b9-ce87-4e33-944e-442fbbbf7e03",
   "metadata": {},
   "source": [
    "# Classical Period Finding — Full Exploration Notebook"
   ]
  },
  {
   "cell_type": "markdown",
   "id": "fc577d03-26c4-4e52-bace-f7829482fd3c",
   "metadata": {},
   "source": [
    "## 🧭 Introduction\n",
    "\n",
    "This notebook explores the computational challenge of finding the period of modular exponentiation functions:\n",
    "\n",
    "$$\n",
    "    f(x) = a^x \\mod N\n",
    "$$\n",
    "\n",
    "This problem lies at the heart of Shor's quantum algorithm for integer factorization. We'll explore two classical methods:\n",
    "\n",
    "- **Brute-force method** — fast but memory-intensive\n",
    "- **Floyd's cycle detection** — memory-efficient but slower\n",
    "\n",
    "We'll analyze their complexity and behavior across different scales, culminating in an extreme stress test with over 25 million steps."
   ]
  },
  {
   "cell_type": "markdown",
   "id": "bd95a2a8-f27e-4ee8-b3f5-081d8fa60d12",
   "metadata": {},
   "source": [
    "## 📌 Problem Definition\n",
    "\n",
    "Given integers $a$ and $N$, we want to find the smallest positive integer $r$ such that:\n",
    "\n",
    "$$\n",
    "    a^r \\equiv 1 \\mod N\n",
    "$$\n",
    "\n",
    "This $r$ is the period of the function $f(x) = a^x \\mod N$.\n",
    "\n",
    "Period finding is the backbone of Shor’s algorithm and determines how efficiently we can factor large integers by reducing the problem to finding cycles in modular exponentiation."
   ]
  },
  {
   "cell_type": "markdown",
   "id": "6ca27df3-edea-4c6b-b0de-8445d9ff9a5c",
   "metadata": {},
   "source": [
    "## ⚙️ Setup and Utilities"
   ]
  },
  {
   "cell_type": "code",
   "execution_count": 5,
   "id": "f654bf8f-9b7c-43a0-a90c-ae8898e2576f",
   "metadata": {},
   "outputs": [],
   "source": [
    "import time\n",
    "import psutil\n",
    "import matplotlib.pyplot as plt\n",
    "from ipywidgets import interact, IntSlider, Dropdown\n",
    "from sympy import isprime, nextprime, primitive_root\n",
    "import gc\n",
    "\n",
    "def memory_usage_MB():\n",
    "    process = psutil.Process()\n",
    "    return process.memory_info().rss / (1024 * 1024)"
   ]
  },
  {
   "cell_type": "markdown",
   "id": "e082c9cc-5d8b-4c13-a1b6-2e585a850884",
   "metadata": {},
   "source": [
    "## 🔍 Brute-Force Period Finding"
   ]
  },
  {
   "cell_type": "markdown",
   "id": "54f54837-896d-401a-96f3-42572ad1df75",
   "metadata": {},
   "source": [
    "### Method Description\n",
    "\n",
    "This method evaluates $f(x)$ for increasing $x$ and stores each result in a dictionary until a repeat is detected, indicating the period.\n",
    "\n",
    "- **Time Complexity**: $O(r)$\n",
    "- **Memory Complexity**: $O(r \\cdot \\log N)$\n",
    "- **Practical Impact**: Memory grows linearly with period length. For large $N$, memory requirements become infeasible.\n",
    "\n",
    "Brute-force is conceptually simple and fast for small problems but scales poorly due to its need to store all previous results for comparison."
   ]
  },
  {
   "cell_type": "code",
   "execution_count": 6,
   "id": "0fd98b01-f31a-4995-bad4-51d5bc803a1a",
   "metadata": {},
   "outputs": [],
   "source": [
    "def brute_force_period_finding(a, N, max_iter=None, progress_interval=1_000_000):\n",
    "    seen = {}\n",
    "    x = 1\n",
    "    mem_log, time_log = [], []\n",
    "    start_time = time.time()\n",
    "    for r in range(1, N if not max_iter else max_iter):\n",
    "        x = (x * a) % N\n",
    "        if r % progress_interval == 0:\n",
    "            print(f\"[{r}] Memory: {memory_usage_MB():.2f} MB | Time: {time.time() - start_time:.2f} s\")\n",
    "            mem_log.append(memory_usage_MB())\n",
    "            time_log.append(time.time() - start_time)\n",
    "        if x in seen:\n",
    "            return r - seen[x], mem_log, time_log\n",
    "        seen[x] = r\n",
    "    return None, mem_log, time_log"
   ]
  },
  {
   "cell_type": "markdown",
   "id": "67eb15c0-2b50-4022-8081-544c88c783e2",
   "metadata": {},
   "source": [
    "## 🐢 Floyd's Cycle Detection"
   ]
  },
  {
   "cell_type": "markdown",
   "id": "bf209106-c80e-4f26-ba16-2612f0fcd827",
   "metadata": {},
   "source": [
    "This approach uses the tortoise-and-hare technique to detect cycles without storing previous values.\n",
    "\n",
    "- **Time Complexity**: $O(r)$\n",
    "- **Memory Complexity**: $O(1)$\n",
    "- **Practical Impact**: Memory remains flat regardless of $r$, but runtime is linear.\n",
    "\n",
    "Floyd’s algorithm is ideal for long-period detection under strict memory constraints. While slower per step, its low memory footprint makes it suitable for constrained environments."
   ]
  },
  {
   "cell_type": "code",
   "execution_count": 8,
   "id": "a5302ef2-791e-4488-a850-41b32fb60500",
   "metadata": {},
   "outputs": [],
   "source": [
    "def floyd_cycle_detection(a, N, progress_interval=1_000_000):\n",
    "    def f(x): return pow(a, x, N)\n",
    "    tortoise = f(1)\n",
    "    hare = f(f(1))\n",
    "    mem_log, time_log = [], []\n",
    "    start_time = time.time()\n",
    "    steps = 1\n",
    "    while tortoise != hare:\n",
    "        tortoise = f(tortoise)\n",
    "        hare = f(f(hare))\n",
    "        if steps % progress_interval == 0:\n",
    "            print(f\"[{steps}] Memory: {memory_usage_MB():.2f} MB | Time: {time.time() - start_time:.2f} s\")\n",
    "            mem_log.append(memory_usage_MB())\n",
    "            time_log.append(time.time() - start_time)\n",
    "        steps += 1\n",
    "        if steps > N:\n",
    "            return None, mem_log, time_log\n",
    "    lam = 1\n",
    "    hare = f(tortoise)\n",
    "    while tortoise != hare:\n",
    "        hare = f(hare)\n",
    "        lam += 1\n",
    "    print(f\"Detected period: r = {lam}\")\n",
    "    return lam, mem_log, time_log"
   ]
  },
  {
   "cell_type": "markdown",
   "id": "2c235d83-5760-4402-9311-4c22d7fc7bf7",
   "metadata": {},
   "source": [
    "## 📈 Plotting Utilities"
   ]
  },
  {
   "cell_type": "code",
   "execution_count": 9,
   "id": "7c36ac9e-2eeb-4189-81b9-884f5b28db1a",
   "metadata": {},
   "outputs": [],
   "source": [
    "def plot_complexity(mem_log, time_log, title=\"\"):\n",
    "    if not mem_log: return\n",
    "    iterations = [i * 1_000_000 for i in range(1, len(mem_log)+1)]\n",
    "    fig, ax1 = plt.subplots(figsize=(10, 5))\n",
    "    ax1.set_xlabel(\"Iterations\")\n",
    "    ax1.set_ylabel(\"Memory (MB)\", color=\"tab:blue\")\n",
    "    ax1.plot(iterations, mem_log, color=\"tab:blue\")\n",
    "    ax1.tick_params(axis=\"y\", labelcolor=\"tab:blue\")\n",
    "    ax2 = ax1.twinx()\n",
    "    ax2.set_ylabel(\"Time (s)\", color=\"tab:red\")\n",
    "    ax2.plot(iterations, time_log, color=\"tab:red\")\n",
    "    ax2.tick_params(axis=\"y\", labelcolor=\"tab:red\")\n",
    "    plt.title(title)\n",
    "    plt.grid(True)\n",
    "    plt.show()"
   ]
  },
  {
   "cell_type": "markdown",
   "id": "bf282530-cb68-4754-b3fe-9bd384fff9ec",
   "metadata": {},
   "source": [
    "## 🧪 Experimental Setup"
   ]
  },
  {
   "cell_type": "markdown",
   "id": "91d54bd1-c319-47c8-8b4e-fabc2aab2093",
   "metadata": {},
   "source": [
    "- Hardware: 32 GB RAM system\n",
    "- Python in Jupyter Notebook environment\n",
    "- Prime $N = 25,000,009$ with primitive root $a = 14$, ensuring maximum period $r = N - 1$\n",
    "\n",
    "We implemented both methods and tracked memory usage and runtime. The notebook allows interactive testing with variable $a$, $N$, and method selection.\n",
    "\n",
    "This structure allows users to experiment dynamically while understanding the theory:\n",
    "- Code implementations\n",
    "- Plotting routines\n",
    "- Interactive widget integration"
   ]
  },
  {
   "cell_type": "markdown",
   "id": "b114287d-ec16-410f-9fd3-71961b88e585",
   "metadata": {},
   "source": [
    "## ▶️ Execution Block"
   ]
  },
  {
   "cell_type": "code",
   "execution_count": 13,
   "id": "7b5fa4c7-b89a-46e2-956b-708e47d4d1ca",
   "metadata": {},
   "outputs": [
    {
     "data": {
      "application/vnd.jupyter.widget-view+json": {
       "model_id": "d9d6c5032ad3473c94ab4ffbb6bd8894",
       "version_major": 2,
       "version_minor": 0
      },
      "text/plain": [
       "VBox(children=(Label(value='⚙️ Set parameters before running:'), IntText(value=14, description='a:'), IntText(…"
      ]
     },
     "metadata": {},
     "output_type": "display_data"
    }
   ],
   "source": [
    "from ipywidgets import Button, VBox, Output, IntText, Dropdown, Label\n",
    "from IPython.display import display, clear_output\n",
    "\n",
    "# UI Widgets\n",
    "param_label = Label(\"⚙️ Set parameters before running:\")\n",
    "a_input = IntText(value=14, description=\"a:\")\n",
    "N_input = IntText(value=25_000_009, description=\"N:\")\n",
    "method_input = Dropdown(\n",
    "    options=[\n",
    "        (\"Both Methods\", \"both\"),\n",
    "        (\"Floyd Only (Low RAM)\", \"floyd\"),\n",
    "        (\"Brute-force Only (High RAM)\", \"brute\")\n",
    "    ],\n",
    "    value=\"both\",\n",
    "    description=\"Run:\"\n",
    ")\n",
    "confirm_button = Button(\n",
    "    description=\"Run Period Finding (Are you sure?)\",\n",
    "    button_style='danger'\n",
    ")\n",
    "button_output = Output()\n",
    "\n",
    "def estimate_memory_MB(N):\n",
    "    \"\"\"Rough estimate: 150 bytes per entry in brute-force dictionary\"\"\"\n",
    "    return round((N * 150) / (1024 ** 2), 2)  # in MB\n",
    "\n",
    "def on_confirm_clicked(b):\n",
    "    with button_output:\n",
    "        clear_output()\n",
    "        a = a_input.value\n",
    "        N = N_input.value\n",
    "        method = method_input.value\n",
    "\n",
    "        print(f\"⚙️ Running with a = {a}, N = {N}, Method = {method}\")\n",
    "        if method in [\"both\", \"brute\"]:\n",
    "            print(f\"\\n🔴 Estimated brute-force memory usage: {estimate_memory_MB(N)} MB\")\n",
    "            print(\"\\n🚀 Starting brute-force period finding...\")\n",
    "            r_brute, mem_log_b, time_log_b = brute_force_period_finding(a, N, max_iter=N + 1000)\n",
    "            plot_complexity(mem_log_b, time_log_b, title=f\"Brute-force: a = {a}, N = {N}\")\n",
    "            print(f\"Brute-force period found: r = {r_brute}\")\n",
    "\n",
    "        if method in [\"both\", \"floyd\"]:\n",
    "            print(\"\\n🐢 Starting Floyd's cycle detection...\")\n",
    "            r_floyd, mem_log_f, time_log_f = floyd_cycle_detection(a, N)\n",
    "            plot_complexity(mem_log_f, time_log_f, title=f\"Floyd's Method: a = {a}, N = {N}\")\n",
    "            print(f\"Floyd's method period found: r = {r_floyd}\")\n",
    "\n",
    "confirm_button.on_click(on_confirm_clicked)\n",
    "\n",
    "display(VBox([param_label, a_input, N_input, method_input, confirm_button, button_output]))"
   ]
  },
  {
   "cell_type": "markdown",
   "id": "94a805f3-6c16-4a43-9192-c08302ff7d3d",
   "metadata": {},
   "source": [
    "## 🧾 Summary and Analysis"
   ]
  },
  {
   "cell_type": "markdown",
   "id": "34d5aab2-8fb7-48bd-b2c8-68957f15aeaf",
   "metadata": {},
   "source": [
    "## Summary of Findings"
   ]
  },
  {
   "cell_type": "markdown",
   "id": "588ca965-f840-4a14-88a2-1211fdfe43f3",
   "metadata": {},
   "source": [
    "### Parameters\n",
    "- Modulus: $N = 25,000,009$ (prime)\n",
    "- Base: $a = 14$ (primitive root)\n",
    "- Expected period: $r = N - 1 = 25,000,008$\n",
    "\n",
    "### Brute-force Results\n",
    "- Period found: 25,000,008\n",
    "- Peak memory: ~2.95 GB\n",
    "- Runtime: ~10.2 seconds\n",
    "\n",
    "### Floyd's Method Results\n",
    "- Period found: 22,186,101\n",
    "- Memory: ~147 MB (constant)\n",
    "- Runtime: ~89 seconds\n",
    "\n",
    "### Observations\n",
    "- Brute-force is extremely fast, but uses linear memory and hits system memory ceilings quickly.\n",
    "- Floyd’s method is reliable and memory-flat, though significantly slower for large $r$.\n",
    "\n",
    "### Conclusion\n",
    "This experiment demonstrates the practical limits of classical period finding:\n",
    "- **Brute-force** fails at scale due to memory saturation.\n",
    "- **Floyd’s method** remains stable but too slow for cryptographic sizes.\n",
    "\n",
    "Together, they illustrate why quantum period finding — using interference and QFT — offers true exponential speedup and tractable memory usage."
   ]
  },
  {
   "cell_type": "code",
   "execution_count": null,
   "id": "bd22d1df-23f0-4d8b-801a-082724e998f0",
   "metadata": {},
   "outputs": [],
   "source": []
  }
 ],
 "metadata": {
  "kernelspec": {
   "display_name": "Skynet",
   "language": "python",
   "name": "skynet"
  },
  "language_info": {
   "codemirror_mode": {
    "name": "ipython",
    "version": 3
   },
   "file_extension": ".py",
   "mimetype": "text/x-python",
   "name": "python",
   "nbconvert_exporter": "python",
   "pygments_lexer": "ipython3",
   "version": "3.13.2"
  }
 },
 "nbformat": 4,
 "nbformat_minor": 5
}
